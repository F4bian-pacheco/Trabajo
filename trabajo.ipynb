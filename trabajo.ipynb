{
 "cells": [
  {
   "cell_type": "markdown",
   "metadata": {},
   "source": [
    "<h1 align = \"center\" > Trabajo Computación Numérica </h1>\n",
    "<h2 align = \"center\" > Evaluación 2 </h2>\n",
    "<br>\n",
    "<h3 align = \"center\"> <b>Profesor: </b> Juan Luis López Díaz</h3>\n",
    "<h3 align = \"center\"> <b>Integrantes: </b> Fabian Pacheco (20.376.575-4)</h3>\n",
    "<h3 align = \"center\"> Benjamin Navarrete (20.169.687-9) </h3>\n",
    "<h3 align = \"center\"> Felipe Nazar (20.350.625-2) </h3>\n",
    "<h3 align = \"center\"> Sebastian Saldias (20.307.660-6) </h3>"
   ]
  },
  {
   "cell_type": "markdown",
   "metadata": {},
   "source": [
    "## a) Metodo De Bisección\n",
    "<style>\n",
    "    p{\n",
    "        font-size: 14px;\n",
    "    }\n",
    "</style>\n",
    "* <p>En el ciclo while se está verificando que el error relativo sobrepase el error permitido de detención. (1)</p>\n",
    "* <p>Se guardan las soluciones del proceso iterativo. (2)</p>"
   ]
  },
  {
   "cell_type": "code",
   "execution_count": 21,
   "metadata": {},
   "outputs": [
    {
     "name": "stdout",
     "output_type": "stream",
     "text": [
      "La solución aproximada en la 1-esima iteración es x= 1.5\n",
      "La solución aproximada en la 2-esima iteración es x= 2.0\n",
      "La solución aproximada en la 3-esima iteración es x= 2.25\n",
      "La solución aproximada en la 4-esima iteración es x= 2.375\n",
      "La solución aproximada en la 5-esima iteración es x= 2.4375\n",
      "La solución aproximada en la 6-esima iteración es x= 2.46875\n",
      "La solución aproximada en la 7-esima iteración es x= 2.484375\n",
      "\n",
      "Tiempo de ejecucion:\n",
      "\n",
      "\n",
      " 0.06799197196960449\n"
     ]
    },
    {
     "data": {
      "text/plain": [
       "[<matplotlib.lines.Line2D at 0x23d990e3430>]"
      ]
     },
     "execution_count": 21,
     "metadata": {},
     "output_type": "execute_result"
    },
    {
     "data": {
      "image/png": "[encoded data removed]",
      "text/plain": [
       "<Figure size 432x288 with 1 Axes>"
      ]
     },
     "metadata": {
      "needs_background": "light"
     },
     "output_type": "display_data"
    }
   ],
   "source": [
    "import numpy as np\n",
    "from math import exp,pi,sqrt\n",
    "from sympy.solvers import solve\n",
    "from sympy import*\n",
    "import numpy as np\n",
    "import time\n",
    "\n",
    "\n",
    "Q = 20\n",
    "B = lambda y:y+3\n",
    "g = 9.81\n",
    "Ac = lambda y:3*y + (y**2)/2\n",
    "\n",
    "inicio = time.time()\n",
    "\n",
    "def f(x): return 1-((Q**2)/g*(Ac(x)**3))*B(x)\n",
    "a=0.5 #! primer limite de intervalo\n",
    "b=2.5 #! segundo limite de intervalo\n",
    "e=0.01 #! condicion de detencion\n",
    "r=0 #!indice para guardar la sol. en la iteracion\n",
    "S=[a] #! vector sol. con solucion inicial \"a\"\n",
    "Error=[1] #! lista de errores\n",
    "relativo = [np.absolute((b-a)/(b))] #!variable errores relativos\n",
    "Conv = []\n",
    "while relativo[r]>=e and (r < 10):\n",
    "    r = r+1\n",
    "    c=(a+b)/2 #! se define el proceso de biseccion\n",
    "    print(f\"La solución aproximada en la {r}-esima iteración es x=\",c)\n",
    "    if f(c)==0:\n",
    "        print(\"La solución obtiene en x = \",c)\n",
    "    else:\n",
    "        if f(a)*f(c)>0:\n",
    "            a=c\n",
    "        else:\n",
    "            b=c\n",
    "    #- Se guardan las sol. del proceso iterativo\n",
    "    Anterior = r-1\n",
    "    S.append(c)\n",
    "    absoluto = np.absolute(S[r]-S[Anterior])\n",
    "    rela = np.absolute((S[r]-S[Anterior])/S[r])\n",
    "    relativo.append(rela)\n",
    "    Error.append(absoluto)\n",
    "    Razon = (Error[r]/Error[1])\n",
    "    Conv.append(Razon)\n",
    "\n",
    "final = time.time()\n",
    "\n",
    "tiempo_total = final-inicio\n",
    "\n",
    "print(\"\\nTiempo de ejecucion:\\n\")\n",
    "print(\"\\n\", tiempo_total)\n",
    "\n",
    "import matplotlib.pyplot as plt\n",
    "plt.plot(S)"
   ]
  },
  {
   "cell_type": "markdown",
   "metadata": {},
   "source": [
    "## b) Metodo de Falsa posición\n",
    "<style>\n",
    "    p{\n",
    "        font-size: 14px;\n",
    "    }\n",
    "</style>\n",
    "### Para realizar el metodo de la falsa posicion nos basamos en el codigo del metodo anterior ajustandolo a este método.\n",
    "* <p> Agregamos la condicion de detención para cuando no existan más de 10 iteraciones(1)</p>\n",
    "* <p> Adapatamos nuestras variables por ejemplo: xu = a; xl = b (2)</p>\n",
    "* <p> La variable tramo guarda el valor absoluto de la diferencia entre el rango b y el a.</p>\n",
    "* <p>Este metodo tiene como condicionante el valor del producto verificandose el signo de esta y asi haciendo el cambio de xr respectivamente. </p>"
   ]
  },
  {
   "cell_type": "code",
   "execution_count": 22,
   "metadata": {},
   "outputs": [
    {
     "name": "stdout",
     "output_type": "stream",
     "text": [
      "xr 2.5045560520807433\n",
      "xr 3.079147358709482\n",
      "xr 3.4609953639975566\n",
      "xr 3.75237541604928\n",
      "xr 3.9900171702824343\n",
      "xr 4.191695388458247\n",
      "xr 4.36746811623032\n",
      "xr 4.523617708296419\n",
      "xr 4.664347268958791\n",
      "xr 4.7926153266267955\n",
      "\n",
      "Tiempo de ejecucion:\n",
      "\n",
      "\n",
      " 0.0030066967010498047\n"
     ]
    },
    {
     "data": {
      "text/plain": [
       "[<matplotlib.lines.Line2D at 0x23d9913ff10>]"
      ]
     },
     "execution_count": 22,
     "metadata": {},
     "output_type": "execute_result"
    },
    {
     "data": {
      "image/png": "[encoded data removed]",
      "text/plain": [
       "<Figure size 432x288 with 1 Axes>"
      ]
     },
     "metadata": {
      "needs_background": "light"
     },
     "output_type": "display_data"
    }
   ],
   "source": [
    "import numpy as np\n",
    "from math import exp,pi,sqrt\n",
    "import time\n",
    "\n",
    "Q = 20\n",
    "B = lambda y:y+3\n",
    "g = 9.81\n",
    "Ac = lambda y:3*y + (y**2)/2\n",
    "\n",
    "inicio = time.time()\n",
    "def f(x): return 1-((Q**2)/g*(Ac(x)**3))*B(x)\n",
    "a=0.5 #! primer limite de intervalo\n",
    "b=2.5 #! segundo limite de intervalo\n",
    "e=0.01 #! condicion de detencion\n",
    "r=0 #!indice para guardar la sol. en la iteracion\n",
    "S=[] #! vector sol. con solucion inicial \"a\"\n",
    "\n",
    "\n",
    "relativo = [np.absolute((b-a)/(b))] #!variable errores relativos\n",
    "tramo = abs(b - a)\n",
    "Conv = [] #! no se que es\n",
    "while tramo>=e and r < 10: #! (1)\n",
    "    r = r+1 #! (2)\n",
    "    fu = f(a)\n",
    "    fl = f(b)\n",
    "    xr = b - fu*(a - b)/(fl - fu)\n",
    "    fxr = f(xr)\n",
    "\n",
    "    if fu*fxr>0:\n",
    "        tramo = abs(xr - a)\n",
    "        a=xr\n",
    "    else:\n",
    "        tramo = abs(b - xr)\n",
    "        b=xr\n",
    "    Anterior = r-1\n",
    "    S.append(xr)\n",
    "    print(\"xr\", xr)\n",
    "\n",
    "final = time.time()\n",
    "\n",
    "tiempo_total = final - inicio\n",
    "\n",
    "print(\"\\nTiempo de ejecucion:\\n\")\n",
    "print(\"\\n\", tiempo_total)\n",
    "\n",
    "import matplotlib.pyplot as plt\n",
    "plt.plot(S)"
   ]
  },
  {
   "cell_type": "markdown",
   "metadata": {},
   "source": [
    "## c) Metodo de Falsa posición Modificada\n",
    "<style>\n",
    "    p{\n",
    "        font-size: 14px;\n",
    "    }\n",
    "</style>\n",
    "<h3> Este método es una implementación del algoritmo de falsa posición modificada </h3>\n",
    "* <p>Las variables ul e il son definidas para controlar la repeticion del condicional y cuando esto ocurra se dividira entre 2 la varibles     actual en uso (1) </p>\n",
    "* <p> </p>"
   ]
  },
  {
   "cell_type": "markdown",
   "metadata": {},
   "source": []
  },
  {
   "cell_type": "code",
   "execution_count": 23,
   "metadata": {},
   "outputs": [
    {
     "name": "stdout",
     "output_type": "stream",
     "text": [
      "xr 2.5045560520807433\n",
      "xr 3.079147358709482\n",
      "xr 3.4609953639975566\n",
      "xr 3.75237541604928\n",
      "xr 3.9900171702824343\n",
      "xr 4.191695388458247\n",
      "xr 4.36746811623032\n",
      "xr 4.523617708296419\n",
      "xr 4.664347268958791\n",
      "xr 4.7926153266267955\n",
      "\n",
      "Tiempo de ejecucion:\n",
      "\n",
      "\n",
      " 0.001982450485229492\n"
     ]
    },
    {
     "data": {
      "text/plain": [
       "[<matplotlib.lines.Line2D at 0x23d9919e190>]"
      ]
     },
     "execution_count": 23,
     "metadata": {},
     "output_type": "execute_result"
    },
    {
     "data": {
      "image/png": "[encoded data removed]",
      "text/plain": [
       "<Figure size 432x288 with 1 Axes>"
      ]
     },
     "metadata": {
      "needs_background": "light"
     },
     "output_type": "display_data"
    }
   ],
   "source": [
    "import numpy as np\n",
    "from math import exp,pi,sqrt\n",
    "import time\n",
    "\n",
    "Q = 20\n",
    "B = lambda y:y+3\n",
    "g = 9.81\n",
    "Ac = lambda y:3*y + (y**2)/2\n",
    "\n",
    "inicio = time.time()\n",
    "def f(x): return 1-((Q**2)/g*(Ac(x)**3))*B(x)\n",
    "a=0.5 #! primer limite de intervalo\n",
    "b=2.5 #! segundo limite de intervalo\n",
    "e=0.01 #! condicion de detencion\n",
    "r=0 #!indice para guardar la sol. en la iteracion\n",
    "S=[] #! vector sol. con solucion inicial \"a\"\n",
    "iu,il = 0,0\n",
    "\n",
    "tramo = abs(b - a)\n",
    "Conv = [] #! no se que es\n",
    "while tramo>=e and r < 10: #! (1)\n",
    "    r = r+1 #! (2)\n",
    "    fu = f(a)\n",
    "    fl = f(b)\n",
    "    xr = b - fu*(a - b)/(fl - fu)\n",
    "    fxr = f(xr)\n",
    "\n",
    "    if fu*fxr > 0:\n",
    "        tramo = abs(xr - a)\n",
    "        a=xr #! xl = xr\n",
    "        fu = f(a)\n",
    "        iu = 0 #! (1)\n",
    "        il = il+1\n",
    "        if il >= 2:\n",
    "            fl = fl / 2\n",
    "    elif fu*fxr < 0:\n",
    "        tramo = abs(b - xr)\n",
    "        b=xr\n",
    "        fl = f(b)\n",
    "        il = 0 #! (1)\n",
    "        iu = iu +1\n",
    "        if iu >= 2:\n",
    "            fu = fu / 2\n",
    "    print(\"xr\", xr)\n",
    "\n",
    "    \n",
    "    S.append(xr)\n",
    "\n",
    "final = time.time()\n",
    "\n",
    "tiempo_total = final - inicio\n",
    "\n",
    "print(\"\\nTiempo de ejecucion:\\n\")\n",
    "print(\"\\n\", tiempo_total)\n",
    "\n",
    "import matplotlib.pyplot as plt\n",
    "plt.plot(S)"
   ]
  },
  {
   "cell_type": "markdown",
   "metadata": {},
   "source": [
    "# Conclusiones\n",
    "\n",
    "* En cuanto a tiempos de ejecucion el metodo de biseccion demostro ser el menos optimo y el mas optimo en cuanto a rendimiento es el metodo de la falsa posicion modificada.\n",
    "* Los tres metodos vistos generan una solucion similar para el mismo problema.\n",
    "* En cuanto a la realizacion del codigo el metodo de la falsa posicion y de la biseccion tienen la misma base algoritmica, en cambio el metodo de la falsa posicion modificada es implementada usando otro algoritmo."
   ]
  }
 ],
 "metadata": {
  "interpreter": {
   "hash": "0e8d0ac39b1413ea33709178b964b2087a06d965eda941592b6cf0c40c84602b"
  },
  "kernelspec": {
   "display_name": "Python 3.9.1 64-bit",
   "name": "python3"
  },
  "language_info": {
   "codemirror_mode": {
    "name": "ipython",
    "version": 3
   },
   "file_extension": ".py",
   "mimetype": "text/x-python",
   "name": "python",
   "nbconvert_exporter": "python",
   "pygments_lexer": "ipython3",
   "version": "3.9.1"
  },
  "orig_nbformat": 4
 },
 "nbformat": 4,
 "nbformat_minor": 2
}
